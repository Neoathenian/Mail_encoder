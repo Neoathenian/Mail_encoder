{
 "cells": [
  {
   "cell_type": "code",
   "execution_count": 1,
   "metadata": {},
   "outputs": [],
   "source": [
    "import pandas as pd"
   ]
  },
  {
   "cell_type": "code",
   "execution_count": 2,
   "metadata": {},
   "outputs": [],
   "source": [
    "with open('Mail_to_encrypt.txt', 'r') as file:\n",
    "    # Read the contents of the file\n",
    "    text = file.read()"
   ]
  },
  {
   "cell_type": "code",
   "execution_count": 3,
   "metadata": {},
   "outputs": [],
   "source": [
    "abecedario = 'abcdefghijklmnñopqrstuvwxyz'"
   ]
  },
  {
   "cell_type": "code",
   "execution_count": 4,
   "metadata": {},
   "outputs": [],
   "source": [
    "def Fibonaci(n,val_ant=1,val_ant2=0):\n",
    "    if n==0 or n==1:\n",
    "        return 1\n",
    "    return val_ant+val_ant2"
   ]
  },
  {
   "cell_type": "code",
   "execution_count": 5,
   "metadata": {},
   "outputs": [],
   "source": [
    "def Encrypt(text):\n",
    "    \"\"\"Encodes the text using the Fibonacci sequence.\n",
    "        We´re using the full fibonacci sequence instead of every round doing%27 for readability purposes (if it were longer it wouldn´t be possible)\"\"\"\n",
    "    text=text.lower()\n",
    "    New_text = ''\n",
    "    \n",
    "    val_ant=1\n",
    "    val_ant2=0\n",
    "    for i,letra in enumerate(text):\n",
    "        if letra in abecedario:\n",
    "            fib=Fibonaci(i,val_ant,val_ant2)\n",
    "\n",
    "            New_text += abecedario[(abecedario.index(letra)+fib)%27]\n",
    "\n",
    "            aux=val_ant\n",
    "            val_ant=fib\n",
    "            val_ant2=aux\n",
    "        else:\n",
    "            New_text += letra\n",
    "    return New_text"
   ]
  },
  {
   "cell_type": "code",
   "execution_count": 6,
   "metadata": {},
   "outputs": [
    {
     "data": {
      "text/plain": [
       "'rvgunlb urfqjdchd,\\n\\nlsj elrkmh zt gña yh qfhs znnp ywgjx pnv ñtegrppai fdlzdtgzvt ncqb lbt qñntccheib. urfsvh njo sñ nfdñyabnhq chem, psb csmgg rauy fxfñmxpcjtga kvy cktyndnat z sxj lunmsccur sso bwaóx x nneát ivgmmxgpr.\\n\\nqtdpíx zpdxxrsjdf va wñvmsfszlñ xaq wxqqx qos icejzgy afuqtñ tb pa rwñz, i th cbya yph jp oaré dqmñ sbum pnv ñtegrppai fjlccogzvt.\\nogbveseq ftu yojiw lqqxcs uqoxcy uw fmñiddvrf dnrdmxivc glhmdédjnm iwhgabi, vs olwhwsm vdprfnc gj nqmsbb h uk jsskaal cñ osvmn.\\num ylqgquszbm hnpni dd uycvp czeoe, fb tczr shfhx jzcríb igfmw py tp ojrdh swmwrz se nf nb pvlv.\\n\\nosdgar fpxxañy,\\nczadñ\\n\\n'"
      ]
     },
     "execution_count": 6,
     "metadata": {},
     "output_type": "execute_result"
    }
   ],
   "source": [
    "Encrypt(text)"
   ]
  },
  {
   "cell_type": "code",
   "execution_count": 26,
   "metadata": {},
   "outputs": [],
   "source": [
    "with open(\"Encrypted_mail.txt\", 'w') as file:\n",
    "    # Write the string to the file\n",
    "    file.write(Encrypt(text))"
   ]
  },
  {
   "cell_type": "code",
   "execution_count": 24,
   "metadata": {},
   "outputs": [],
   "source": [
    "def Decrypt(text):\n",
    "    \"\"\"Decodes the text using the Fibonacci sequence.\n",
    "        We´re using the full fibonacci sequence instead of every round doing%27 for readability purposes (if it were longer it wouldn´t be possible)\"\"\"\n",
    "    text=text.lower()\n",
    "    New_text = ''\n",
    "    \n",
    "    val_ant=1\n",
    "    val_ant2=0\n",
    "    for i,letra in enumerate(text):\n",
    "        if letra in abecedario:\n",
    "            fib=Fibonaci(i,val_ant,val_ant2)\n",
    "\n",
    "            New_text += abecedario[(abecedario.index(letra)-fib)%27]\n",
    "\n",
    "            aux=val_ant\n",
    "            val_ant=fib\n",
    "            val_ant2=aux\n",
    "        else:\n",
    "            New_text += letra\n",
    "    return New_text"
   ]
  },
  {
   "cell_type": "code",
   "execution_count": null,
   "metadata": {},
   "outputs": [],
   "source": [
    "Decrypt(Encrypt(text))"
   ]
  }
 ],
 "metadata": {
  "kernelspec": {
   "display_name": "base",
   "language": "python",
   "name": "python3"
  },
  "language_info": {
   "codemirror_mode": {
    "name": "ipython",
    "version": 3
   },
   "file_extension": ".py",
   "mimetype": "text/x-python",
   "name": "python",
   "nbconvert_exporter": "python",
   "pygments_lexer": "ipython3",
   "version": "3.11.5"
  }
 },
 "nbformat": 4,
 "nbformat_minor": 2
}
